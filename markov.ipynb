{
 "cells": [
  {
   "cell_type": "code",
   "execution_count": 57,
   "metadata": {},
   "outputs": [
    {
     "name": "stdout",
     "output_type": "stream",
     "text": [
      "{'': {}, 'those': {}, 'hours': {}, 'that': {}, 'with': {}, 'gentle': {}, 'work': {}, 'did': {}, 'frame': {}, 'the': {}, 'lovely': {}, 'gaze': {}, 'where': {}, 'every': {}, 'eye': {}, 'doth': {}, 'dwell': {}, 'will': {}, 'play': {}, 'tyrants': {}, 'to': {}, 'very': {}, 'same': {}, 'and': {}, 'unfair': {}, 'which': {}, 'fairly': {}, 'excel': {}, 'for': {}, 'neverresting': {}, 'time': {}, 'leads': {}, 'summer': {}, 'on': {}, 'hideous': {}, 'winter': {}, 'confounds': {}, 'him': {}, 'there': {}, 'sap': {}, 'checked': {}, 'frost': {}, 'lusty': {}, 'leaves': {}, 'quite': {}, 'gone': {}, 'beauty': {}, 'o’ersnowed': {}, 'bareness': {}, 'then': {}, 'were': {}, 'not': {}, 'summer’s': {}, 'distillation': {}, 'left': {}, 'a': {}, 'liquid': {}, 'prisoner': {}, 'pent': {}, 'in': {}, 'walls': {}, 'of': {}, 'glass': {}, 'beauty’s': {}, 'effect': {}, 'bereft': {}, 'nor': {}, 'it': {}, 'no': {}, 'remembrance': {}, 'what': {}, 'was': {}, 'but': {}, 'flowers': {}, 'distill’d': {}, 'though': {}, 'they': {}, 'meet': {}, 'leese': {}, 'their': {}, 'show': {}, 'substance': {}, 'still': {}, 'lives': {}, 'sweet': {}, 'let': {}, 'winter’s': {}, 'ragged': {}, 'hand': {}, 'deface': {}, 'thee': {}, 'thy': {}, 'ere': {}, 'thou': {}, 'be': {}, 'distilled': {}, 'make': {}, 'some': {}, 'vial': {}, 'treasure': {}, 'place': {}, 'selfkilled': {}, 'use': {}, 'is': {}, 'forbidden': {}, 'usury': {}, 'happies': {}, 'pay': {}, 'willing': {}, 'loan': {}, 'that’s': {}, 'self': {}, 'breed': {}, 'another': {}, 'or': {}, 'ten': {}, 'times': {}, 'happier': {}, 'one': {}, 'than': {}, 'art': {}, 'if': {}, 'thine': {}, 'refigured': {}, 'could': {}, 'death': {}, 'do': {}, 'shouldst': {}, 'depart': {}, 'leaving': {}, 'living': {}, 'posterity': {}, 'selfwilled': {}, 'much': {}, 'too': {}, 'fair': {}, 'death’s': {}, 'conquest': {}, 'worms': {}, 'heir': {}, 'look': {}, 'tell': {}, 'face': {}, 'viewest': {}, 'now': {}, 'should': {}, 'form': {}, 'whose': {}, 'fresh': {}, 'repair': {}, 'renewest': {}, 'dost': {}, 'beguile': {}, 'world': {}, 'unbless': {}, 'mother': {}, 'she': {}, 'so': {}, 'unear’d': {}, 'womb': {}, 'disdains': {}, 'tillage': {}, 'husbandry': {}, 'who': {}, 'he': {}, 'fond': {}, 'tomb': {}, 'his': {}, 'selflove': {}, 'stop': {}, 'mother’s': {}, 'calls': {}, 'back': {}, 'april': {}, 'her': {}, 'prime': {}, 'through': {}, 'windows': {}, 'age': {}, 'shall': {}, 'see': {}, 'despite': {}, 'wrinkles': {}, 'this': {}, 'golden': {}, 'live': {}, 'remember’d': {}, 'die': {}, 'single': {}, 'image': {}, 'dies': {}, 'unthrifty': {}, 'loveliness': {}, 'why': {}, 'spend': {}, 'upon': {}, 'thyself': {}, 'legacy': {}, 'nature’s': {}, 'bequest': {}, 'gives': {}, 'nothing': {}, 'lend': {}, 'being': {}, 'frank': {}, 'lends': {}, 'are': {}, 'free': {}, 'beauteous': {}, 'niggard': {}, 'abuse': {}, 'bounteous': {}, 'largess': {}, 'given': {}, 'give': {}, 'profitless': {}, 'usurer': {}, 'great': {}, 'sum': {}, 'sums': {}, 'yet': {}, 'canst': {}, 'having': {}, 'traffic': {}, 'alone': {}, 'deceive': {}, 'how': {}, 'when': {}, 'nature': {}, 'acceptable': {}, 'audit': {}, 'leave': {}, 'unused': {}, 'must': {}, 'tomb’d': {}, 'used': {}, 'th’': {}, 'executor': {}, 'weary': {}, 'toil': {}, 'i': {}, 'haste': {}, 'me': {}, 'my': {}, 'bed': {}, 'dear': {}, 'repose': {}, 'limbs': {}, 'travel': {}, 'tired': {}, 'begins': {}, 'journey': {}, 'head': {}, 'mind': {}, 'body’s': {}, 'work’s': {}, 'expired': {}, 'thoughts–from': {}, 'far': {}, 'abide–': {}, 'intend': {}, 'zealous': {}, 'pilgrimage': {}, 'keep': {}, 'drooping': {}, 'eyelids': {}, 'open': {}, 'wide': {}, 'looking': {}, 'darkness': {}, 'blind': {}, 'save': {}, 'soul’s': {}, 'imaginary': {}, 'sight': {}, 'presents': {}, 'shadow': {}, 'sightless': {}, 'view': {}, 'like': {}, 'jewel': {}, 'hung': {}, 'ghastly': {}, 'night': {}, 'makes': {}, 'black': {}, 'old': {}, 'new': {}, 'lo': {}, 'thus': {}, 'by': {}, 'day': {}, 'myself': {}, 'quiet': {}, 'find': {}, 'music': {}, 'hear': {}, 'hear’st': {}, 'sadly': {}, 'sweets': {}, 'war': {}, 'joy': {}, 'delights': {}, 'lov’st': {}, 'receiv’st': {}, 'gladly': {}, 'else': {}, 'pleasure': {}, 'annoy': {}, 'true': {}, 'concord': {}, 'welltuned': {}, 'sounds': {}, 'unions': {}, 'married': {}, 'offend': {}, 'ear': {}, 'sweetly': {}, 'chide': {}, 'singleness': {}, 'parts': {}, 'bear': {}, 'mark': {}, 'string': {}, 'husband': {}, 'strikes': {}, 'each': {}, 'mutual': {}, 'ordering': {}, 'resembling': {}, 'sire': {}, 'child': {}, 'happy': {}, 'all': {}, 'pleasing': {}, 'note': {}, 'sing': {}, 'speechless': {}, 'song': {}, 'many': {}, 'seeming': {}, 'sings': {}, '‘thou': {}, 'wilt': {}, 'prove': {}, 'none’': {}, 'fear': {}, 'wet': {}, 'widow’s': {}, 'consum’st': {}, 'life': {}, 'ah': {}, 'issueless': {}, 'shalt': {}, 'hap': {}, 'wail': {}, 'makeless': {}, 'wife': {}, 'widow': {}, 'weep': {}, 'hast': {}, 'behind': {}, 'private': {}, 'well': {}, 'may': {}, 'children’s': {}, 'eyes': {}, 'husband’s': {}, 'shape': {}, 'an': {}, 'unthrift': {}, 'shifts': {}, 'enjoys': {}, 'waste': {}, 'hath': {}, 'end': {}, 'kept': {}, 'user': {}, 'destroys': {}, 'love': {}, 'toward': {}, 'others': {}, 'bosom': {}, 'sits': {}, 'himself': {}, 'such': {}, 'murd’rous': {}, 'shame': {}, 'commits': {}, 'deny': {}, 'bear’st': {}, 'any': {}, 'unprovident': {}, 'grant': {}, 'beloved': {}, 'none': {}, 'most': {}, 'evident': {}, 'possessed': {}, 'murderous': {}, 'hate': {}, '‘gainst': {}, 'stick’st': {}, 'conspire': {}, 'seeking': {}, 'roof': {}, 'ruinate': {}, 'chief': {}, 'desire': {}, 'o': {}, 'change': {}, 'thought': {}, 'fairer': {}, 'lodged': {}, 'as': {}, 'presence': {}, 'gracious': {}, 'kind': {}, 'at': {}, 'least': {}, 'kindhearted': {}}\n"
     ]
    }
   ],
   "source": [
    "import re\n",
    "import string\n",
    "\n",
    "def markov_dict():\n",
    "    # create empty dictionary\n",
    "    word_freqs = {}\n",
    "    # open txt file and read to string, string to lower\n",
    "    with open ('./sonnets.txt', 'r') as sonnet_file:\n",
    "       sonnets = sonnet_file.read()\n",
    "       sonnets = sonnets.lower()\n",
    "    # use regex findall to split text into words and punctuation\n",
    "    # words = re.findall(r\"[\\w']+|[.,!?;]\", sonnets)\n",
    "    words = re.sub('['+string.punctuation+']', '', sonnets).split()\n",
    "    past_word = \"\"\n",
    "    # for loop that adds all words in text as keys in word_freqs\n",
    "    for word in words:\n",
    "        # if word not in word_freqs:\n",
    "        #     word_freqs[word] = {}\n",
    "        # else:\n",
    "        #     continue\n",
    "        if past_word in word_freqs:\n",
    "            frequency = word_freqs[past_word]\n",
    "        else:\n",
    "            frequency = {}\n",
    "            word_freqs[past_word] = frequency\n",
    "        if past_word in frequency:\n",
    "            occurrences = word_freqs[word]\n",
    "        else:\n",
    "            occurrences = 0\n",
    "        if word in frequency:\n",
    "            frequency += 1\n",
    "        past_word = word\n",
    "    print(word_freqs)\n",
    "\n",
    "\n",
    "markov_dict()\n",
    "\n",
    "# dict[key] = value\n",
    "# print(dict[key]) will show value\n"
   ]
  },
  {
   "cell_type": "code",
   "execution_count": null,
   "metadata": {},
   "outputs": [],
   "source": [
    "import re\n",
    "\n",
    "def markov_dict(): \n",
    "    word_freqs = {}\n",
    "    with open ('./sonnets.txt', 'r') as sonnet_file:\n",
    "       sonnets = sonnet_file.read()\n",
    "       sonnets = sonnets.lower()\n",
    "    words = re.findall(r\"[\\w]+|[.,]\", sonnets)\n",
    "    past_word = ''\n",
    "    for word in words:\n",
    "        if word not in word_freqs:\n",
    "            word_freqs[word] = []\n",
    "        else:\n",
    "            continue\n",
    "    print(word_freqs)\n",
    "markov_dict()"
   ]
  }
 ],
 "metadata": {
  "interpreter": {
   "hash": "ee7b84d66a3371239c59e108419bce1412cf903ed7f3ea8ba7ac4ab305eb6e2d"
  },
  "kernelspec": {
   "display_name": "Python 3.7.13 ('venv': venv)",
   "language": "python",
   "name": "python3"
  },
  "language_info": {
   "codemirror_mode": {
    "name": "ipython",
    "version": 3
   },
   "file_extension": ".py",
   "mimetype": "text/x-python",
   "name": "python",
   "nbconvert_exporter": "python",
   "pygments_lexer": "ipython3",
   "version": "3.7.13"
  },
  "orig_nbformat": 4
 },
 "nbformat": 4,
 "nbformat_minor": 2
}
