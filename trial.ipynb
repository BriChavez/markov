{
 "cells": [
  {
   "cell_type": "code",
   "execution_count": null,
   "metadata": {},
   "outputs": [],
   "source": [
    "import re\n",
    "import string\n",
    "from numpy.random import choice\n",
    "import random\n",
    "import json\n",
    "\n",
    "\n",
    "\"\"\"create a dict of how what words follow which and how many times they did\"\"\"\n",
    "with open('extra_text.txt', 'r') as seuss_script:\n",
    "    # open txt file and read to string, string to lower\n",
    "    seussical = seuss_script.read()\n",
    "    seussical = seussical.lower()\n",
    "\n",
    "    # use regex to split text into words and punctuation\n",
    "global seuss_string\n",
    "seuss_string = re.findall(r\"(?:\\w+[']?\\w)+|[.,]\", seussical)\n",
    "print(seuss_string)\n",
    "# for loop that runs over every word in test\n",
    "seuss_dict = {}\n",
    "\n",
    "for i, word in enumerate(seuss_string[:-1]):\n",
    "    this_word = seuss_string[i+1]\n",
    "    # if this_word is in dict, asssign it to 'next_count'\n",
    "    if this_word not in seuss_dict:\n",
    "        next_count = {}\n",
    "        seuss_dict[this_word] = next_count\n",
    "\n",
    "    # if not, create empty dictionary with this_word as the key and next_count as the value\n",
    "    else:\n",
    "        next_count = seuss_dict[this_word]\n",
    "\n",
    "    if word in next_count:\n",
    "        next_count[word] += 1\n",
    "    else:\n",
    "        next_count[word] = 1\n",
    "this_word = seuss_string[i+1]\n",
    "\n",
    "print(seuss_string)\n",
    "\n",
    "# name our new dictionary of words and count of next possible words to a new variable\n",
    "\n",
    "print(json.dumps(seuss_dict, sort_keys=True, indent=3))\n"
   ]
  },
  {
   "cell_type": "code",
   "execution_count": 51,
   "metadata": {},
   "outputs": [],
   "source": [
    "\"\"\"start the story\"\"\"\n",
    "\n",
    "# name variable with the first word in our list of words\n",
    "first_word = random.choice(seuss_string)\n",
    "\n",
    "# name the first word of our story as\n",
    "global story\n",
    "story = []\n",
    "\n",
    "\n",
    "def start_story(str):\n",
    "    \"\"\"function to start the story\"\"\"\n",
    "    if story == []:\n",
    "        # set story up with a first word\n",
    "        story.append(first_word)\n",
    "    else:\n",
    "        # dont start the story if its already been started\n",
    "        pass\n",
    "    return story\n",
    "\n",
    "\n",
    "start_story(seuss_string)\n",
    "# call function on our list of words from the text\n",
    "seuss_list = seuss_string\n"
   ]
  },
  {
   "cell_type": "code",
   "execution_count": 52,
   "metadata": {},
   "outputs": [],
   "source": [
    "\n",
    "\n",
    "def whos_next():\n",
    "    \"\"\"function to get the next word using weighted probability\"\"\"\n",
    "    current_word = story[-1]\n",
    "    for outer_word, inner_dict in seuss_dict.items():\n",
    "        # pick out our nested dict for specific word\n",
    "        word_self_total = inner_dict.items()\n",
    "        # get the next words and instances\n",
    "        total_occurances = inner_dict.values()\n",
    "        # seperate the instances\n",
    "        if outer_word == current_word:\n",
    "            # pull the dictionary for the current word\n",
    "            total = sum(total_occurances)\n",
    "            # add the total times a word followed current word\n",
    "            probs = []\n",
    "            # set empty variable for the percent chance of each word occuring\n",
    "            hopefuls = []\n",
    "            # set a list of all words that came after current word\n",
    "            likely = []\n",
    "            # set an empty list to grab the count of each word\n",
    "            for number in total_occurances:\n",
    "                # pull every number of times each word came after current\n",
    "                percent = number / total\n",
    "                # factor the percent chance of a word being next\n",
    "                probs.append(percent)\n",
    "                # add each percent to our probs list\n",
    "\n",
    "            for word, num in word_self_total:\n",
    "                # pull words and their values from our inner dict\n",
    "                hopefuls.append(word)\n",
    "                # add each word to our hopefuls list\n",
    "                likely.append(num)\n",
    "                # add each number to our likely list\n",
    "                global rng_says\n",
    "\n",
    "            rng_says = choice(hopefuls, p=probs)\n",
    "            # weighted rng based off the percent probability of word occuring\n",
    "            # return rng_says\n",
    "\n",
    "\n",
    "            next_word = str(rng_says)\n",
    "            # change rng output from numpy to string\n",
    "            story.append(next_word)\n",
    "            # add our next word string to the story\n",
    "            # current_word = story[-1]\n",
    "            # set current word to be the last word of the story\n",
    "\n",
    "\n"
   ]
  },
  {
   "cell_type": "code",
   "execution_count": 53,
   "metadata": {},
   "outputs": [
    {
     "name": "stdout",
     "output_type": "stream",
     "text": [
      "or , day what my , down slupp . car in not will you like not did business . word the at roads my was he and here them like someone unless . dark the up bees as sad they . away him describe . glove it's . cat the for are some are loots ba bar their wishing there . slow are some and sad , fun is name your though go to have may they how oh hear you as upset very working machine off you'r heard i'v , long , alone you'r . net my hacking your of end far , because , august in here live cannot they that all up look . there or left turn . you that way your up face his , them let you hat it's . snuffled he then . down were we then and sneetches belly plain could it as laughed he as long song long as , long such making you'r all we'r , one this at yelled they . her gown the where , said and know that can you and , fear with them see we now it and round way her on grind and deep it and . rain the or , luck good are they whenever and dexterous be to fish the of tip with not do to fish the said he . . high are they day wet this in . . choose don't . bump went . beaches the and , everyone , spent was mother your and . round way the at look and . more once the in things good of seat the said he . schlopp schloppity also . sad . tent went he . two thing with said and . . . throat his on you . . cat the , not did business is today congratulations seuss dr by lorax the had who who's know hopefully don't . not do . down upside brown . anywhere them eat not is there it like not , now , feet two are tricks good of out is you , but . lorax the pass you'l , oh . long , spent was who fliers high to seem you did sun the on walk they'l . black and jumps , said fish our . may you if play to it and gang your . chop one at way other has it and . said and far , said he , now you show will . house this at trees the . day that you'r places great and pace necking break better or parties frankfurter your in sat . mouse with , said fish the up zipped stranger . . door his , august in them let you things the see you and nail and smarties old are some and big my , then . perhaps , ship toy our on . . choose don't no and . lead the in not did you . him call they . back come them sent he , walking out . away them eat will . done be you'l more no and , them like not do home way the where brown saw first the said down and brownish and here come you'l go them like not can we play day each but . heart my biggered and one . game good so . beaches the see we , happen can much how lose you would dark the it's . care with them see you could , wet still were we should you scare that in came fields the it's . all they when\n"
     ]
    }
   ],
   "source": [
    "\n",
    "\"\"\"add words to the story\"\"\"\n",
    "\n",
    "\n",
    "while len(story) < 600:\n",
    "    whos_next()\n",
    "whole_story = ' '.join(story)\n",
    "print(whole_story)\n"
   ]
  },
  {
   "cell_type": "code",
   "execution_count": 54,
   "metadata": {},
   "outputs": [
    {
     "name": "stdout",
     "output_type": "stream",
     "text": [
      "Or, day what my, down slupp. Car in not will you like not did business. Word the at roads my was he and here them like someone unless. Dark the up bees as sad they. Away him describe. Glove it's. Cat the for are some are loots ba bar their wishing there. Slow are some and sad, fun is name your though go to have may they how oh hear you as upset very working machine off you'r heard i'v, long, alone you'r. Net my hacking your of end far, because, august in here live cannot they that all up look. There or left turn. You that way your up face his, them let you hat it's. Snuffled he then. Down were we then and sneetches belly plain could it as laughed he as long song long as, long such making you'r all we'r, one this at yelled they. Her gown the where, said and know that can you and, fear with them see we now it and round way her on grind and deep it and. Rain the or, luck good are they whenever and dexterous be to fish the of tip with not do to fish the said he. . High are they day wet this in. . Choose don't. Bump went. Beaches the and, everyone, spent was mother your and. Round way the at look and. More once the in things good of seat the said he. Schlopp schloppity also. Sad. Tent went he. Two thing with said and. . . Throat his on you. . Cat the, not did business is today congratulations seuss dr by lorax the had who who's know hopefully don't. Not do. Down upside brown. Anywhere them eat not is there it like not, now, feet two are tricks good of out is you, but. Lorax the pass you'l, oh. Long, spent was who fliers high to seem you did sun the on walk they'l. Black and jumps, said fish our. May you if play to it and gang your. Chop one at way other has it and. Said and far, said he, now you show will. House this at trees the. Day that you'r places great and pace necking break better or parties frankfurter your in sat. Mouse with, said fish the up zipped stranger. . Door his, august in them let you things the see you and nail and smarties old are some and big my, then. Perhaps, ship toy our on. . Choose don't no and. Lead the in not did you. Him call they. Back come them sent he, walking out. Away them eat will. Done be you'l more no and, them like not do home way the where brown saw first the said down and brownish and here come you'l go them like not can we play day each but. Heart my biggered and one. Game good so. Beaches the see we, happen can much how lose you would dark the it's. Care with them see you could, wet still were we should you scare that in came fields the it's. All they when.\n"
     ]
    }
   ],
   "source": [
    "import string\n",
    "\n",
    "whole_story = re.sub(r'\\s([?.,!](?:\\s|$))', r'\\1', whole_story)\n",
    "\n",
    "\n",
    "sentences = re.split('[?.]', whole_story)\n",
    "cap_sent = []\n",
    "for sentence in sentences:\n",
    "    cap_sent.append((sentence.lstrip().capitalize() + '.'))\n",
    "cap_sent = ' '.join(cap_sent)\n",
    "\n",
    "print(cap_sent)"
   ]
  },
  {
   "cell_type": "code",
   "execution_count": 55,
   "metadata": {},
   "outputs": [
    {
     "name": "stdout",
     "output_type": "stream",
     "text": [
      "Or, day what my, down slupp.\n",
      "Car in not will you like not did business.\n",
      "Word the at roads my was he and here them like someone unless.\n",
      "Dark the up bees as sad they.\n",
      "Away him describe.\n",
      "Glove it's.\n",
      "Cat the for are some are loots ba bar their wishing there.\n",
      "Slow are some and sad, fun is name your though go to have may they how oh hear you as upset very working machine off you'r heard i'v, long, alone you'r.\n",
      "Net my hacking your of end far, because, august in here live cannot they that all up look.\n",
      "There or left turn.\n",
      "You that way your up face his, them let you hat it's.\n",
      "Snuffled he then.\n",
      "Down were we then and sneetches belly plain could it as laughed he as long song long as, long such making you'r all we'r, one this at yelled they.\n",
      "Her gown the where, said and know that can you and, fear with them see we now it and round way her on grind and deep it and.\n",
      "Rain the or, luck good are they whenever and dexterous be to fish the of tip with not do to fish the said he.\n",
      ".\n",
      "High are they day wet this in.\n",
      ".\n",
      "Choose don't.\n",
      "Bump went.\n",
      "Beaches the and, everyone, spent was mother your and.\n",
      "Round way the at look and.\n",
      "More once the in things good of seat the said he.\n",
      "Schlopp schloppity also.\n",
      "Sad.\n",
      "Tent went he.\n",
      "Two thing with said and.\n",
      ".\n",
      ".\n",
      "Throat his on you.\n",
      ".\n",
      "Cat the, not did business is today congratulations seuss dr by lorax the had who who's know hopefully don't.\n",
      "Not do.\n",
      "Down upside brown.\n",
      "Anywhere them eat not is there it like not, now, feet two are tricks good of out is you, but.\n",
      "Lorax the pass you'l, oh.\n",
      "Long, spent was who fliers high to seem you did sun the on walk they'l.\n",
      "Black and jumps, said fish our.\n",
      "May you if play to it and gang your.\n",
      "Chop one at way other has it and.\n",
      "Said and far, said he, now you show will.\n",
      "House this at trees the.\n",
      "Day that you'r places great and pace necking break better or parties frankfurter your in sat.\n",
      "Mouse with, said fish the up zipped stranger.\n",
      ".\n",
      "Door his, august in them let you things the see you and nail and smarties old are some and big my, then.\n",
      "Perhaps, ship toy our on.\n",
      ".\n",
      "Choose don't no and.\n",
      "Lead the in not did you.\n",
      "Him call they.\n",
      "Back come them sent he, walking out.\n",
      "Away them eat will.\n",
      "Done be you'l more no and, them like not do home way the where brown saw first the said down and brownish and here come you'l go them like not can we play day each but.\n",
      "Heart my biggered and one.\n",
      "Game good so.\n",
      "Beaches the see we, happen can much how lose you would dark the it's.\n",
      "Care with them see you could, wet still were we should you scare that in came fields the it's.\n",
      "All they when.\n",
      "\n"
     ]
    }
   ],
   "source": [
    "# # cleaned_story = '.'.join(map((lambda x: x[0].upper()+x[1:])))\n",
    "\n",
    "# # cap_sentences = [sentences.capitalize() for sentences in whole_story]\n",
    "# sentences = re.split('[?.]', whole_story)\n",
    "# cap_sent = []\n",
    "\n",
    "# for string in sentences:\n",
    "#     string[:1].capitalize() + string[1:].lower()\n",
    "#     cap_sent.append(string)   \n",
    "\n",
    "\n",
    "\n",
    "# cap_sentences = [cap(sentences) for sentences in whole_story]\n",
    "splittext = cap_sent.split(\".\")\n",
    "for x in range(1, len(splittext)):\n",
    "    splittext[x] = \"\\n\"+splittext[x].lstrip()\n",
    "text = \".\".join(splittext)\n",
    "print(text)"
   ]
  },
  {
   "cell_type": "code",
   "execution_count": 11,
   "metadata": {},
   "outputs": [
    {
     "name": "stdout",
     "output_type": "stream",
     "text": [
      "<class 'list'>\n"
     ]
    }
   ],
   "source": [
    "print(type(sentences))"
   ]
  },
  {
   "cell_type": "code",
   "execution_count": null,
   "metadata": {},
   "outputs": [],
   "source": [
    "for i in story:\n",
    "    if i in puncuation:\n",
    "        x = story[i+1]\n",
    "        x.capatilize()"
   ]
  }
 ],
 "metadata": {
  "kernelspec": {
   "display_name": "Python 3.7.13 ('venv': venv)",
   "language": "python",
   "name": "python3"
  },
  "language_info": {
   "codemirror_mode": {
    "name": "ipython",
    "version": 3
   },
   "file_extension": ".py",
   "mimetype": "text/x-python",
   "name": "python",
   "nbconvert_exporter": "python",
   "pygments_lexer": "ipython3",
   "version": "3.7.13"
  },
  "orig_nbformat": 4,
  "vscode": {
   "interpreter": {
    "hash": "4d415629578ab31ae194d9b03ba0f4bbf888c1f5b85b5b09dc8ec40167408b3b"
   }
  }
 },
 "nbformat": 4,
 "nbformat_minor": 2
}
