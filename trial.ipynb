{
 "cells": [
  {
   "cell_type": "code",
   "execution_count": 6,
   "metadata": {},
   "outputs": [
    {
     "name": "stdout",
     "output_type": "stream",
     "text": [
      "['green', 'eggs', 'and', 'ham', 'i', 'am', 'sam', '.', 'i', 'am', 'sam', '.', 'sam', 'i', 'am', '.', 'that', 'sam', 'i', 'am', '!', 'that', 'sam', 'i', 'am', '!', 'i', 'do', 'not', 'like', 'that', 'sam', 'i', 'am', '!', 'do', 'would', 'you', 'like', 'green', 'eggs', 'and', 'ham', '?', 'i', 'do', 'not', 'like', 'them', ',', 'sam', 'i', 'am', '.', 'i', 'do', 'not', 'like', 'green', 'eggs', 'and', 'ham', '.', 'would', 'you', 'like', 'them', 'here', 'or', 'there', '?', 'i', 'would', 'not', 'like', 'them', 'here', 'or', 'there', '.', 'i', 'would', 'not', 'like', 'them', 'anywhere', '.', 'i', 'do', 'not', 'like', 'green', 'eggs', 'and', 'ham', '.', 'i', 'do', 'not', 'like', 'them', ',', 'sam', 'i', 'am', '.', 'would', 'you', 'like', 'them', 'in', 'a', 'house', '?', 'would', 'you', 'like', 'then', 'with', 'a', 'mouse', '?', 'i', 'do', 'not', 'like', 'them', 'in', 'a', 'house', '.', 'i', 'do', 'not', 'like', 'them', 'with', 'a', 'mouse', '.', 'i', 'do', 'not', 'like', 'them', 'here', 'or', 'there', '.', 'i', 'do', 'not', 'like', 'them', 'anywhere', '.', 'i', 'do', 'not', 'like', 'green', 'eggs', 'and', 'ham', '.', 'i', 'do', 'not', 'like', 'them', ',', 'sam', 'i', 'am', '.', 'would', 'you', 'eat', 'them', 'in', 'a', 'box', '?', 'would', 'you', 'eat', 'them', 'with', 'a', 'fox', '?', 'not', 'in', 'a', 'box', '.', 'not', 'with', 'a', 'fox', '.', 'not', 'in', 'a', 'house', '.', 'not', 'with', 'a', 'mouse', '.', 'i', 'would', 'not', 'eat', 'them', 'here', 'or', 'there', '.', 'i', 'would', 'not', 'eat', 'them', 'anywhere', '.', 'i', 'would', 'not', 'eat', 'green', 'eggs', 'and', 'ham', '.', 'i', 'do', 'not', 'like', 'them', ',', 'sam', 'i', 'am', '.', 'would', 'you', '?', 'could', 'you', '?', 'in', 'a', 'car', '?', 'eat', 'them', '!', 'eat', 'them', '!', 'here', 'they', 'are', '.', 'i', 'would', 'not', ',', 'could', 'not', ',', 'in', 'a', 'car', '.', 'you', 'may', 'like', 'them', '.', 'you', 'will', 'see', '.', 'you', 'may', 'like', 'them', 'in', 'a', 'tree', '!', 'i', 'would', 'not', ',', 'could', 'not', 'in', 'a', 'tree', '.', 'not', 'in', 'a', 'car', '!', 'you', 'let', 'me', 'be', '.', 'i', 'do', 'not', 'like', 'them', 'in', 'a', 'box', '.', 'i', 'do', 'not', 'like', 'them', 'with', 'a', 'fox', '.', 'i', 'do', 'not', 'like', 'them', 'in', 'a', 'house', '.', 'i', 'do', 'not', 'like', 'them', 'with', 'a', 'mouse', '.', 'i', 'do', 'not', 'like', 'them', 'here', 'or', 'there', '.', 'i', 'do', 'not', 'like', 'them', 'anywhere', '.', 'i', 'do', 'not', 'like', 'green', 'eggs', 'and', 'ham', '.', 'i', 'do', 'not', 'like', 'them', ',', 'sam', 'i', 'am', '.', 'a', 'train', '!', 'a', 'train', '!', 'a', 'train', '!', 'a', 'train', '!', 'could', 'you', ',', 'would', 'you', 'on', 'a', 'train', '?', 'not', 'on', 'train', '!', 'not', 'in', 'a', 'tree', '!', 'not', 'in', 'a', 'car', '!', 'sam', '!', 'let', 'me', 'be', '!', 'i', 'would', 'not', ',', 'could', 'not', ',', 'in', 'a', 'box', '.', 'i', 'would', 'not', ',', 'could', 'not', ',', 'with', 'a', 'fox', '.', 'i', 'will', 'not', 'eat', 'them', 'in', 'a', 'house', '.', 'i', 'will', 'not', 'eat', 'them', 'here', 'or', 'there', '.', 'i', 'will', 'not', 'eat', 'them', 'anywhere', '.', 'i', 'do', 'not', 'eat', 'green', 'eggs', 'and', 'ham', '.', 'i', 'do', 'not', 'like', 'them', ',', 'sam', 'i', 'am', '.', 'say', '!', 'in', 'the', 'dark', '?', 'here', 'in', 'the', 'dark', '!', 'would', 'you', ',', 'could', 'you', ',', 'in', 'the', 'dark', '?', 'i', 'would', 'not', ',', 'could', 'not', ',', 'in', 'the', 'dark', '.', 'would', 'you', 'could', 'you', 'in', 'the', 'rain', '?', 'i', 'would', 'not', ',', 'could', 'not', 'in', 'the', 'rain', '.', 'not', 'in', 'the', 'dark', '.', 'not', 'on', 'a', 'train', '.', 'not', 'in', 'a', 'car', '.', 'not', 'in', 'a', 'tree', '.', 'i', 'do', 'not', 'like', 'them', ',', 'sam', ',', 'you', 'see', '.', 'not', 'in', 'a', 'house', '.', 'not', 'in', 'a', 'box', '.', 'not', 'with', 'a', 'mouse', '.', 'not', 'with', 'a', 'fox', '.', 'i', 'will', 'not', 'eat', 'them', 'here', 'or', 'there', '.', 'i', 'do', 'not', 'like', 'them', 'anywhere', '!', 'you', 'do', 'not', 'like', 'green', 'eggs', 'and', 'ham', '?', 'i', 'do', 'not', 'like', 'them', ',', 'sam', 'i', 'am', '.', 'could', 'you', ',', 'would', 'you', ',', 'with', 'a', 'goat', '?', 'i', 'would', 'not', ',', 'could', 'not', 'with', 'a', 'goat', '!', 'would', 'you', ',', 'could', 'you', ',', 'on', 'a', 'boat', '?', 'i', 'could', 'not', ',', 'would', 'not', ',', 'on', 'a', 'boat', '.', 'i', 'will', 'not', ',', 'will', 'not', ',', 'with', 'a', 'goat', '.', 'i', 'will', 'not', 'eat', 'them', 'in', 'the', 'rain', '.', 'not', 'in', 'the', 'dark', '!', 'not', 'in', 'a', 'tree', '!', 'not', 'in', 'a', 'car', '!', 'you', 'let', 'me', 'be', '!', 'i', 'do', 'not', 'like', 'them', 'in', 'a', 'box', '.', 'i', 'do', 'not', 'like', 'them', 'with', 'a', 'fox', '.', 'i', 'will', 'not', 'eat', 'them', 'in', 'a', 'house', '.', 'i', 'do', 'not', 'like', 'them', 'with', 'a', 'mouse', '.', 'i', 'do', 'not', 'like', 'them', 'here', 'or', 'there', '.', 'i', 'do', 'not', 'like', 'them', 'anywhere', '!', 'i', 'do', 'not', 'like', 'green', 'eggs', 'and', 'ham', '!', 'i', 'do', 'not', 'like', 'them', ',', 'sam', 'i', 'am', '.', 'you', 'do', 'not', 'like', 'them', '.', 'so', 'you', 'say', '.', 'try', 'them', '!', 'try', 'them', '!', 'and', 'you', 'may', '.', 'try', 'them', 'and', 'you', 'may', ',', 'i', 'say', '.', 'sam', '!', 'if', 'you', 'let', 'me', 'be', ',', 'i', 'will', 'try', 'them', '.', 'you', 'will', 'see', '.', 'say', '!', 'i', 'like', 'green', 'eggs', 'and', 'ham', '!', 'i', 'do', '!', 'i', 'like', 'them', ',', 'sam', 'i', 'am', '!', 'and', 'i', 'would', 'eat', 'them', 'in', 'a', 'boat', '.', 'and', 'i', 'would', 'eat', 'them', 'with', 'a', 'goat', '.', '.', '.', 'and', 'i', 'will', 'eat', 'them', ',', 'in', 'the', 'rain', '.', 'and', 'in', 'the', 'dark', '.', 'and', 'on', 'a', 'train', '.', 'and', 'in', 'a', 'car', '.', 'and', 'in', 'a', 'tree', '.', 'they', 'are', 'so', 'good', ',', 'so', 'good', ',', 'you', 'see', '!', 'so', 'i', 'will', 'eat', 'them', 'in', 'a', 'box', '.', 'and', 'i', 'will', 'eat', 'them', 'with', 'a', 'fox', '.', 'and', 'i', 'will', 'eat', 'them', 'in', 'a', 'house', '.', 'and', 'i', 'will', 'eat', 'them', 'with', 'a', 'mouse', '.', 'and', 'i', 'will', 'eat', 'them', 'here', 'and', 'there', '.', 'say', '!', 'i', 'will', 'eat', 'them', 'anywhere', '!', 'i', 'do', 'so', 'like', 'green', 'eggs', 'and', 'ham', '!', 'thank', 'you', '!', 'thank', 'you', ',', 'sam', 'i', 'am', '.']\n"
     ]
    }
   ],
   "source": [
    "import re\n",
    "import string\n",
    "from numpy.random import choice\n",
    "import random\n",
    "\n",
    "\n",
    "\n",
    "\"\"\"create a dict of how what words follow which and how many times they did\"\"\"\n",
    "with open('./seuss_script.txt', 'r') as seuss_script:\n",
    "    # open txt file and read to string, string to lower\n",
    "    seussical = seuss_script.read()\n",
    "    seussical = seussical.lower()\n",
    "\n",
    "    # use regex to split text into words and punctuation\n",
    "global seuss_string\n",
    "seuss_string = re.findall(r\"[\\w']+|[.,!?;]\", seussical)\n",
    "\n",
    "# for loop that runs over every word in test\n",
    "seuss_dict = {}\n",
    "\n",
    "for i, word in enumerate(seuss_string[:-1]):\n",
    "    this_word = seuss_string[i+1]\n",
    "    # if this_word is in dict, asssign it to 'next_count'\n",
    "    if this_word not in seuss_dict:\n",
    "        next_count = {}\n",
    "        seuss_dict[this_word] = next_count\n",
    "\n",
    "    # if not, create empty dictionary with this_word as the key and next_count as the value\n",
    "    else:\n",
    "        next_count = seuss_dict[this_word]\n",
    "\n",
    "    if word in next_count:\n",
    "        next_count[word] += 1\n",
    "    else:\n",
    "        next_count[word] = 1\n",
    "this_word = seuss_string[i+1]\n",
    "\n",
    "print(seuss_string)\n",
    "\n",
    "# name our new dictionary of words and count of next possible words to a new variable\n",
    "\n",
    "# print(seuss_dict)\n"
   ]
  },
  {
   "cell_type": "code",
   "execution_count": 7,
   "metadata": {},
   "outputs": [
    {
     "name": "stdout",
     "output_type": "stream",
     "text": [
      "eat\n"
     ]
    }
   ],
   "source": [
    "\"\"\"start the story\"\"\"\n",
    "\n",
    "# name variable with the first word in our list of words\n",
    "first_word = random.choice(seuss_string)\n",
    "print(first_word)\n",
    "# name the first word of our story as\n",
    "global story\n",
    "story = []\n",
    "\n",
    "\n",
    "def start_story(list):\n",
    "    \"\"\"function to start the story\"\"\"\n",
    "    if story == []:\n",
    "        # set story up with a first word\n",
    "        story.append(first_word)\n",
    "    else:\n",
    "        # dont start the story if its already been started\n",
    "        pass\n",
    "    return story\n",
    "\n",
    "\n",
    "start_story(seuss_string)\n",
    "# call function on our list of words from the text\n",
    "seuss_list = seuss_string\n"
   ]
  },
  {
   "cell_type": "code",
   "execution_count": 8,
   "metadata": {},
   "outputs": [],
   "source": [
    "\n",
    "\n",
    "def whos_next():\n",
    "    \"\"\"function to get the next word using weighted probability\"\"\"\n",
    "    current_word = story[-1]\n",
    "    for outer_word, inner_dict in seuss_dict.items():\n",
    "        # pick out our nested dict for specific word\n",
    "        word_self_total = inner_dict.items()\n",
    "        # get the next words and instances\n",
    "        total_occurances = inner_dict.values()\n",
    "        # seperate the instances\n",
    "        if outer_word == current_word:\n",
    "            # pull the dictionary for the current word\n",
    "            total = sum(total_occurances)\n",
    "            # add the total times a word followed current word\n",
    "            probs = []\n",
    "            # set empty variable for the percent chance of each word occuring\n",
    "            hopefuls = []\n",
    "            # set a list of all words that came after current word\n",
    "            likely = []\n",
    "            # set an empty list to grab the count of each word\n",
    "            for number in total_occurances:\n",
    "                # pull every number of times each word came after current\n",
    "                percent = number / total\n",
    "                # factor the percent chance of a word being next\n",
    "                probs.append(percent)\n",
    "                # add each percent to our probs list\n",
    "\n",
    "            for word, num in word_self_total:\n",
    "                # pull words and their values from our inner dict\n",
    "                hopefuls.append(word)\n",
    "                # add each word to our hopefuls list\n",
    "                likely.append(num)\n",
    "                # add each number to our likely list\n",
    "                global rng_says\n",
    "\n",
    "            rng_says = choice(hopefuls, p=probs)\n",
    "            # weighted rng based off the percent probability of word occuring\n",
    "            # return rng_says\n",
    "\n",
    "\n",
    "            next_word = str(rng_says)\n",
    "            # change rng output from numpy to string\n",
    "            story.append(next_word)\n",
    "            # add our next word string to the story\n",
    "            # current_word = story[-1]\n",
    "            # set current word to be the last word of the story\n",
    "\n",
    "\n",
    "whos_next()\n"
   ]
  },
  {
   "cell_type": "code",
   "execution_count": 9,
   "metadata": {},
   "outputs": [
    {
     "name": "stdout",
     "output_type": "stream",
     "text": [
      "['eat', 'not', 'do', 'i', 'and', '.', 'tree', 'a', 'in', 'them', 'like', 'not', '!', 'tree', 'a', 'in', 'them', 'like', 'not', 'do', 'i', '.', 'there', 'or', 'here', 'them', 'eat', '?', 'fox', 'a', 'with', 'them', 'like', 'i', '.', 'see', 'you', 'could', 'i', '!', 'dark', 'the', 'in', 'them', 'like', 'not', 'would', 'i', 'and', '.', 'am', 'i', 'and', 'them', 'eat', 'not', '.', 'house', 'a', 'in', 'them', 'like', 'not', 'would', '!', 'be', 'me', 'let', 'you', 'if', '!', 'them', 'like', 'not', '!', 'ham', 'and', '.', 'fox', 'a', '!', 'tree', 'a', 'with', 'them', 'like', 'you', 'could', ',', 'them', 'eat', 'will', 'i', '.', 'train', 'a', 'in', 'them', 'like', 'not']\n"
     ]
    }
   ],
   "source": [
    "\n",
    "\"\"\"add words to the story\"\"\"\n",
    "\n",
    "\n",
    "while len(story) < 100:\n",
    "    whos_next()\n",
    "\n",
    "print(story)\n"
   ]
  }
 ],
 "metadata": {
  "kernelspec": {
   "display_name": "Python 3.7.13 ('venv': venv)",
   "language": "python",
   "name": "python3"
  },
  "language_info": {
   "codemirror_mode": {
    "name": "ipython",
    "version": 3
   },
   "file_extension": ".py",
   "mimetype": "text/x-python",
   "name": "python",
   "nbconvert_exporter": "python",
   "pygments_lexer": "ipython3",
   "version": "3.7.13"
  },
  "orig_nbformat": 4,
  "vscode": {
   "interpreter": {
    "hash": "4d415629578ab31ae194d9b03ba0f4bbf888c1f5b85b5b09dc8ec40167408b3b"
   }
  }
 },
 "nbformat": 4,
 "nbformat_minor": 2
}
